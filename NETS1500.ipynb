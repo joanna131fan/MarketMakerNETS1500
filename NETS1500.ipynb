{
  "nbformat": 4,
  "nbformat_minor": 0,
  "metadata": {
    "colab": {
      "provenance": []
    },
    "kernelspec": {
      "name": "python3",
      "display_name": "Python 3"
    },
    "language_info": {
      "name": "python"
    }
  },
  "cells": [
    {
      "cell_type": "markdown",
      "source": [
        "# Market Market Simulation\n",
        "\n",
        "We will make markets based on secret numbers assigned to each person.\n",
        "\n",
        "**HOW TO RUN NOTEBOOK**: \n",
        "To run the simulation, simply click on ‘Run All’ under the ‘Runtime’ tab. Then, the simulation will give you your secret number and prompt you to input your name (you need to scroll to section titled **RUN SIMULATION**). After doing so, you will begin the rounds. For each round, input your quote as buy price and sell price in the format ‘buy@sell’ where buy is an integer and sell is an integer. Ideally, buy is less than sell since it doesn’t make sense to want to buy something for more than you want to sell it for, but the code lets you play around with the numbers however you want. At the end of the simulation, you will be given your opponent’s numbers and their strategies and your own PNL. \n",
        "You are free to change the constants in cell 2 as well as the strategy ranges of the computers in the strategy class section.\n"
      ],
      "metadata": {
        "id": "ur857u2GnUPv"
      }
    },
    {
      "cell_type": "code",
      "source": [
        "# import classes\n",
        "import random\n",
        "from time import sleep"
      ],
      "metadata": {
        "id": "JHUaRg5CbNhZ"
      },
      "execution_count": 9,
      "outputs": []
    },
    {
      "cell_type": "code",
      "source": [
        "# constants\n",
        "# VARIATION ALLOWED: feel free to change any of these numbers\n",
        "NUM_ROUNDS = 5\n",
        "NUM_OPPONENTS = 5\n",
        "\n",
        "MIN_SECRET = 1\n",
        "MAX_SECRET = 20"
      ],
      "metadata": {
        "id": "B1sHPYoglUyd"
      },
      "execution_count": 10,
      "outputs": []
    },
    {
      "cell_type": "markdown",
      "source": [
        "## Player Class\n",
        "\n",
        "Here we define the class for a player, both user and computers. Each player has the amount cash, stock, and settled pnl they own and also a secret number."
      ],
      "metadata": {
        "id": "o6G2_4q6bsqG"
      }
    },
    {
      "cell_type": "code",
      "execution_count": 11,
      "metadata": {
        "id": "F656fx4magIW"
      },
      "outputs": [],
      "source": [
        "class Player:\n",
        "    def __init__(self, name):\n",
        "        self.id = name\n",
        "        self.secret = random.randrange(MIN_SECRET, MAX_SECRET+1)\n",
        "\n",
        "        # PNL\n",
        "        self.cash = 0 # cash owned\n",
        "        self.stock = 0 # stocks owned/short\n",
        "        self.pnl = 0 # settled pnl\n",
        "\n",
        "        # Transactions History\n",
        "        self.history = []\n",
        "\n",
        "    def getBalance(self):\n",
        "        data = {\"cash\": self.cash, \"stock\": self.stock, \"pnl\": self.pnl}\n",
        "        return f\"\\nPNL: {self.pnl} \\ncash: {self.cash} \\nstock: {self.stock}\"\n",
        "\n",
        "    def transact(self, price, qty, ctpy):\n",
        "        self.history.append({\"ctpy\": ctpy, \"price\": price, \"qty\": qty})\n",
        "        self.cash -= price*qty\n",
        "        self.stock += qty\n",
        "        if(self.stock == 0):\n",
        "            self.pnl += self.cash\n",
        "            self.cash = 0\n",
        "        return True"
      ]
    },
    {
      "cell_type": "code",
      "source": [
        "# inherits the Player class, for only the user playing who serve as the market maker, not the computers\n",
        "class MarketMaker(Player):\n",
        "    def __init__(self, name):\n",
        "        super().__init__(name)"
      ],
      "metadata": {
        "id": "v6KKi36catZ6"
      },
      "execution_count": 12,
      "outputs": []
    },
    {
      "cell_type": "markdown",
      "source": [
        "## Strategy Classes\n",
        "For each of the computers playing, they need a strategy to play with."
      ],
      "metadata": {
        "id": "u84BnDRFchkf"
      }
    },
    {
      "cell_type": "code",
      "source": [
        "# Base Strategy Template\n",
        "class StratTemplate(Player):\n",
        "    def __init__(self, name):\n",
        "        super().__init__(name)\n",
        "        self.strat = random.randrange(1,4)\n",
        "    \n",
        "    def getSecret(self):\n",
        "        return self.secret\n",
        "\n",
        "    def getStrat(self):\n",
        "        return self.strat\n",
        "    \n",
        "    def getAction(self):\n",
        "        pass\n",
        "\n",
        "# VARIATION ALLOWED: Feel free to change the margins of each play, but keep it the same on both the buy and sell side\n",
        "def RandomizeStrat(fairValue, strat):\n",
        "    # Plays Tight, Small Margins\n",
        "    if strat == 1:\n",
        "        return fairValue-1, fairValue+1\n",
        "    # Plays Loose, Larger Margins\n",
        "    elif strat == 2:\n",
        "        return fairValue-3, fairValue+3\n",
        "    # Plays Very Loose, Large Margins\n",
        "    else:\n",
        "        return fairValue-6, fairValue+6\n",
        "\n",
        "class PlayerStrat(StratTemplate):\n",
        "  # LIFT a market maker = buys at the ask price\n",
        "  # HIT a market maker = sells at the bid price\n",
        "\n",
        "  def getAction(self, bid, ask):\n",
        "        fairValue = self.secret + 10*(NUM_OPPONENTS)\n",
        "        buy, sell = RandomizeStrat(fairValue, self.strat)\n",
        "        if buy >= ask:\n",
        "          return \"LIFT\"\n",
        "        elif sell <= bid:\n",
        "          return \"HIT\"\n",
        "        return \"NA\""
      ],
      "metadata": {
        "id": "1oc_MTSocVr1"
      },
      "execution_count": 13,
      "outputs": []
    },
    {
      "cell_type": "markdown",
      "source": [
        "## Some Functions"
      ],
      "metadata": {
        "id": "MNQO4Vf0dYDM"
      }
    },
    {
      "cell_type": "code",
      "source": [
        "def update_user(user: MarketMaker, response, bid, ask, ctpy):\n",
        "    # Market Maker sells\n",
        "    if(response == \"LIFT\"):\n",
        "        return user.transact(ask, -1, ctpy)\n",
        "\n",
        "    # Market Maker buys\n",
        "    elif(response == \"HIT\"):\n",
        "        return user.transact(bid, 1, ctpy)\n",
        "    else:\n",
        "        return\n",
        "\n",
        "def update_computer(computer, response, bid, ask, ctpy):\n",
        "    # Computer sells\n",
        "    if(response == \"HIT\"):\n",
        "        computer.transact(bid, -1, opp)\n",
        "    \n",
        "    # Computer buys\n",
        "    elif(response == \"LIFT\"):\n",
        "        computer.transact(ask, 1, opp)\n",
        "    \n",
        "    else:\n",
        "        return\n",
        "\n",
        "def Quote(quote):\n",
        "    # FORMAT: buy@sell\n",
        "    # Default amount 1\n",
        "    try:\n",
        "        bid, ask = quote.split(\"@\")\n",
        "        return int(bid), int(ask)\n",
        "    except:\n",
        "        print(\"Please reformat: bid@ask\")\n",
        "    return\n",
        "\n",
        "def getRange(strat, fairValue):\n",
        "    if strat == 1:\n",
        "        return f\"Buy at {fairValue - 1} or less, Sell at {fairValue+1} or more\"\n",
        "    elif strat == 2:\n",
        "        return f\"Buy at {fairValue - 3} or less, Sell at {fairValue+3} or more\"\n",
        "    elif strat == 3:\n",
        "        return f\"Buy at {fairValue - 6} or less, Sell at {fairValue+6} or more\"\n",
        "\n",
        "def getPNL(player):\n",
        "  if(player.stock > 0):\n",
        "    print(f\"You have {player.stock} stocks\")\n",
        "    print(f\"Exchanging your stock for cash at fair value...\")\n",
        "    player.cash += player.stock*fv\n",
        "    player.stock = 0\n",
        "    player.pnl += player.cash\n",
        "    player.cash = 0\n",
        "  if(player.stock < 0):\n",
        "      print(f\"You are short {player.stock} stock\")\n",
        "      print(f\"Covering your short position...\")\n",
        "      player.cash += player.stock*fv\n",
        "      player.stock = 0\n",
        "      player.pnl += player.cash\n",
        "      player.cash = 0\n",
        "  return player.pnl, player.cash, player.stock"
      ],
      "metadata": {
        "id": "WF2alz_UawrT"
      },
      "execution_count": 14,
      "outputs": []
    },
    {
      "cell_type": "markdown",
      "source": [
        "# RUN SIMULATION\n",
        "\n",
        "You have a total of 5 opponents, for 6 players total. You will play for 5 rounds. Each player is assigned a secret number between 1 and 20 inclusive. Start and run the cell and make markets on the sum of all your numbers.\n",
        "\n",
        "Variations: You can choose to change the number players, range of numbers, as well as the degree of risk each player is willing to take. To change these, the lines that are changeable are preceded by a ``# VARIATION ALLOWED`` comment."
      ],
      "metadata": {
        "id": "yoddxEh9grnJ"
      }
    },
    {
      "cell_type": "code",
      "source": [
        "player = MarketMaker(name=\"User\")\n",
        "opponents = [] \n",
        "\n",
        "for opp in range(NUM_OPPONENTS):\n",
        "    opponents.append( PlayerStrat(f\"{opp+1}\") )\n",
        "\n",
        "print(f\"Welcome to this market making simulation! You will be a market maker amongst {NUM_OPPONENTS} market takers.\")\n",
        "print(f\"Your secret number is: {player.secret}\")\n",
        "print(f\"Make a market on: {player.secret} + SUM(all {NUM_OPPONENTS} opponents secret numbers)\")\n",
        "name = input(\"Input your name to start\\n\")\n",
        "\n",
        "player.id = name\n",
        "\n",
        "prompt = \"\"\"Enter a quote in \"bid@ask\" format \"\"\"\n",
        "prompt2 = f\"Make a market on: {player.secret} + SUM(all {NUM_OPPONENTS} opponents secret numbers)\"\n",
        "    \n",
        "# Begin Game \n",
        "for i in range(1, NUM_ROUNDS+1):\n",
        "    print(\"\\n\", \"~\"*50, f\"Round {i}\", \"~\"*50)\n",
        "    quote = input(f\"Enter a quote { player.id }>\")\n",
        "    bid, ask = Quote(quote)\n",
        "\n",
        "    # Present offer to opponents\n",
        "    for opp in opponents:\n",
        "        # Get their action\n",
        "        response = opp.getAction(bid,ask)\n",
        "        # Transact\n",
        "        update_user(player, response, bid, ask, opp)\n",
        "        update_computer(opp, response, bid, ask, player)\n",
        "\n",
        "        amt =  bid if(response == \"HIT\") else ask if response == \"LIFT\" else \"--\"\n",
        "        \n",
        "        if response != \"NA\":\n",
        "            print(f\"|\\t Player {opp.id} {response} @ {amt} \\t\\t Current (avg) position: {opp.stock}@{opp.cash / (abs(opp.stock)) if opp.stock!=0 else 0}\")\n",
        "        else:\n",
        "            print(f\"|\\t Player {opp.id} No Action \\t\\t Current (avg) position: {opp.stock}@{opp.cash / (abs(opp.stock)) if opp.stock!=0 else 0}\")\n",
        "    \n",
        "    print(\"-\" * 108)\n",
        "        \n",
        "    print(\"Your position:\", player.getBalance())\n",
        "    \n",
        "## End Game\n",
        "print(\"*\"*20, \"Statistics\", \"*\"*20)\n",
        "print(\"Revealing secret numbers and player ranges...\")\n",
        "sleep(1)\n",
        "fv = player.secret\n",
        "for opp in opponents:\n",
        "    print(f\"Player {opp.id}: {opp.secret}\")\n",
        "    opp_fv = int(opp.secret) + 10*NUM_OPPONENTS\n",
        "    opp_range = getRange(opp.strat, opp_fv)\n",
        "    print(f\"Player Strategy: \", opp_range)\n",
        "    fv += opp.secret\n",
        "    sleep(0.5)\n",
        "print(f\"This means the fair value is:  {fv} \")\n",
        "print(\"Computing your total pnl....\")\n",
        "sleep(2)\n",
        "player.pnl, player.cash, player.stock = getPNL(player)\n",
        "sleep(0.5)\n",
        "print(f\"Total pnl: >>>||  {player.pnl}  ||<<<\")"
      ],
      "metadata": {
        "colab": {
          "base_uri": "https://localhost:8080/"
        },
        "id": "ryCqDxp1grKA",
        "outputId": "723bfb15-4f32-4ada-8de1-f19eb6382d1c"
      },
      "execution_count": 15,
      "outputs": [
        {
          "output_type": "stream",
          "name": "stdout",
          "text": [
            "Welcome to this market making simulation! You will be a market maker amongst 5 market takers.\n",
            "Your secret number is: 18\n",
            "Make a market on: 18 + SUM(all 5 opponents secret numbers)\n",
            "Input your name to start\n",
            "joanna\n",
            "\n",
            " ~~~~~~~~~~~~~~~~~~~~~~~~~~~~~~~~~~~~~~~~~~~~~~~~~~ Round 1 ~~~~~~~~~~~~~~~~~~~~~~~~~~~~~~~~~~~~~~~~~~~~~~~~~~\n",
            "Enter a quote joanna>66@70\n",
            "|\t Player 1 No Action \t\t Current (avg) position: 0@0\n",
            "|\t Player 2 HIT @ 66 \t\t Current (avg) position: -1@66.0\n",
            "|\t Player 3 No Action \t\t Current (avg) position: 0@0\n",
            "|\t Player 4 HIT @ 66 \t\t Current (avg) position: -1@66.0\n",
            "|\t Player 5 HIT @ 66 \t\t Current (avg) position: -1@66.0\n",
            "------------------------------------------------------------------------------------------------------------\n",
            "Your position: \n",
            "PNL: 0 \n",
            "cash: -198 \n",
            "stock: 3\n",
            "\n",
            " ~~~~~~~~~~~~~~~~~~~~~~~~~~~~~~~~~~~~~~~~~~~~~~~~~~ Round 2 ~~~~~~~~~~~~~~~~~~~~~~~~~~~~~~~~~~~~~~~~~~~~~~~~~~\n",
            "Enter a quote joanna>62@73\n",
            "|\t Player 1 No Action \t\t Current (avg) position: 0@0\n",
            "|\t Player 2 HIT @ 62 \t\t Current (avg) position: -2@64.0\n",
            "|\t Player 3 No Action \t\t Current (avg) position: 0@0\n",
            "|\t Player 4 No Action \t\t Current (avg) position: -1@66.0\n",
            "|\t Player 5 HIT @ 62 \t\t Current (avg) position: -2@64.0\n",
            "------------------------------------------------------------------------------------------------------------\n",
            "Your position: \n",
            "PNL: 0 \n",
            "cash: -322 \n",
            "stock: 5\n",
            "\n",
            " ~~~~~~~~~~~~~~~~~~~~~~~~~~~~~~~~~~~~~~~~~~~~~~~~~~ Round 3 ~~~~~~~~~~~~~~~~~~~~~~~~~~~~~~~~~~~~~~~~~~~~~~~~~~\n",
            "Enter a quote joanna>61@63\n",
            "|\t Player 1 LIFT @ 63 \t\t Current (avg) position: 1@-63.0\n",
            "|\t Player 2 HIT @ 61 \t\t Current (avg) position: -3@63.0\n",
            "|\t Player 3 No Action \t\t Current (avg) position: 0@0\n",
            "|\t Player 4 No Action \t\t Current (avg) position: -1@66.0\n",
            "|\t Player 5 HIT @ 61 \t\t Current (avg) position: -3@63.0\n",
            "------------------------------------------------------------------------------------------------------------\n",
            "Your position: \n",
            "PNL: 0 \n",
            "cash: -381 \n",
            "stock: 6\n",
            "\n",
            " ~~~~~~~~~~~~~~~~~~~~~~~~~~~~~~~~~~~~~~~~~~~~~~~~~~ Round 4 ~~~~~~~~~~~~~~~~~~~~~~~~~~~~~~~~~~~~~~~~~~~~~~~~~~\n",
            "Enter a quote joanna>60@64\n",
            "|\t Player 1 LIFT @ 64 \t\t Current (avg) position: 2@-63.5\n",
            "|\t Player 2 No Action \t\t Current (avg) position: -3@63.0\n",
            "|\t Player 3 No Action \t\t Current (avg) position: 0@0\n",
            "|\t Player 4 No Action \t\t Current (avg) position: -1@66.0\n",
            "|\t Player 5 HIT @ 60 \t\t Current (avg) position: -4@62.25\n",
            "------------------------------------------------------------------------------------------------------------\n",
            "Your position: \n",
            "PNL: 0 \n",
            "cash: -377 \n",
            "stock: 6\n",
            "\n",
            " ~~~~~~~~~~~~~~~~~~~~~~~~~~~~~~~~~~~~~~~~~~~~~~~~~~ Round 5 ~~~~~~~~~~~~~~~~~~~~~~~~~~~~~~~~~~~~~~~~~~~~~~~~~~\n",
            "Enter a quote joanna>61@65\n",
            "|\t Player 1 LIFT @ 65 \t\t Current (avg) position: 3@-64.0\n",
            "|\t Player 2 HIT @ 61 \t\t Current (avg) position: -4@62.5\n",
            "|\t Player 3 No Action \t\t Current (avg) position: 0@0\n",
            "|\t Player 4 No Action \t\t Current (avg) position: -1@66.0\n",
            "|\t Player 5 HIT @ 61 \t\t Current (avg) position: -5@62.0\n",
            "------------------------------------------------------------------------------------------------------------\n",
            "Your position: \n",
            "PNL: 0 \n",
            "cash: -434 \n",
            "stock: 7\n",
            "******************** Statistics ********************\n",
            "Revealing secret numbers and player ranges...\n",
            "Player 1: 19\n",
            "Player Strategy:  Buy at 66 or less, Sell at 72 or more\n",
            "Player 2: 8\n",
            "Player Strategy:  Buy at 55 or less, Sell at 61 or more\n",
            "Player 3: 13\n",
            "Player Strategy:  Buy at 57 or less, Sell at 69 or more\n",
            "Player 4: 10\n",
            "Player Strategy:  Buy at 54 or less, Sell at 66 or more\n",
            "Player 5: 8\n",
            "Player Strategy:  Buy at 57 or less, Sell at 59 or more\n",
            "This means the fair value is:  76 \n",
            "Computing your total pnl....\n",
            "You have 7 stocks\n",
            "Exchanging your stock for cash at fair value...\n",
            "Total pnl: >>>||  98  ||<<<\n"
          ]
        }
      ]
    }
  ]
}